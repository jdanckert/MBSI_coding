{
 "cells": [
  {
   "cell_type": "markdown",
   "metadata": {
    "id": "ND1Y1kjql1Xx"
   },
   "source": [
    "# Workshop #2 Worksheet\n",
    "\n",
    "Welcome to Workshop #2! We're excited to share some fun and medically relevant problems for you to work through.   \n",
    "\n",
    "Unless otherwise indicated as exercises, the code chunks in this worksheet are illustrative examples which you should run.\n",
    "\n",
    "---"
   ]
  },
  {
   "cell_type": "markdown",
   "metadata": {
    "id": "mYyIawVE8O3t"
   },
   "source": [
    "# 1) Data types\n",
    "\n",
    "Different data types include:\n",
    "  * Strings\n",
    "  * Integers\n",
    "  * Floats\n",
    "  * Booleans\n",
    "\n",
    "We have already met strings. A *string* is basically a string of characters and are identified by quote marks around the characters. \n",
    "```python\n",
    "    \"This is a string\"\n",
    "    'This is also a string'\n",
    "```\n",
    "Note that both double- and single-apostrophes are acceptable; however, you need to be consistent in your use. For example, `\"xyz'` is not a valid string.\n",
    "\n",
    "*Integers* are whole numbers (for example, `5`, `21`, `-7`)\n",
    "\n",
    "*Floats* are decimal numbers (for example, `5.3`, `3.14`, `2.0`)\n",
    "\n",
    "There are only two possible *boolean* values: `True` and `False`.\n",
    "\n",
    "You can use the `type()` function to check the type of the information stored by a variable.\n",
    "\n",
    "\n",
    "\n",
    "**Example**: \n",
    "\n",
    "The `type()` function checks what data type `\"Ryan\"` is."
   ]
  },
  {
   "cell_type": "code",
   "execution_count": null,
   "metadata": {
    "id": "QPvNn4WGQBdr"
   },
   "outputs": [],
   "source": [
    "# Strings\n",
    "Name = \"Ryan\"\n",
    "print(Name)\n",
    "print(type(Name))"
   ]
  },
  {
   "cell_type": "markdown",
   "metadata": {
    "id": "AYIadJ9l-0Av"
   },
   "source": [
    "**Exercise 1:**  \n",
    "1.   **Use the type() function for Integers and Floats** \n",
    "\n",
    "**For the following exercises, type your code below the instructional comments!**\n"
   ]
  },
  {
   "cell_type": "code",
   "execution_count": null,
   "metadata": {
    "id": "fHyJJTUYEl4x"
   },
   "outputs": [],
   "source": [
    "# Exercise 1\n",
    "\n",
    "# Integers\n",
    "# Define an Integer variable\n",
    "\n",
    "# Print the variable\n",
    "\n",
    "# Print the type of the variable\n"
   ]
  },
  {
   "cell_type": "code",
   "execution_count": null,
   "metadata": {
    "id": "VyY97aYlE-gz"
   },
   "outputs": [],
   "source": [
    "# Floats\n",
    "# Define a Float variable\n",
    "\n",
    "# Print the variable\n",
    "\n",
    "# Print the type of the variable\n"
   ]
  },
  {
   "cell_type": "markdown",
   "metadata": {
    "id": "k2UGb--IPOQZ"
   },
   "source": [
    "---\n",
    "\n",
    "# 2) Operations: the maths ones, not the surgical ones\n",
    "\n",
    "**The classic quartet:**\n",
    "- Add: `+`\n",
    "- Subtract: `-`\n",
    "- Multiply: `*`\n",
    "- Divide: `/`\n",
    "\n",
    "An example with integers:\n",
    "\n"
   ]
  },
  {
   "cell_type": "code",
   "execution_count": null,
   "metadata": {
    "id": "KyvCzu5kQkF-"
   },
   "outputs": [],
   "source": [
    "result = 2 + 2\n",
    "print('2 + 2 =', result, '. It does not equal 5.')"
   ]
  },
  {
   "cell_type": "markdown",
   "metadata": {
    "id": "-Tb9T9o_RUHd"
   },
   "source": [
    "The rule of **BODMAS** is alive and well in Python\n",
    "\n"
   ]
  },
  {
   "cell_type": "code",
   "execution_count": 1,
   "metadata": {
    "colab": {
     "base_uri": "https://localhost:8080/"
    },
    "executionInfo": {
     "elapsed": 1627,
     "status": "ok",
     "timestamp": 1616658513480,
     "user": {
      "displayName": "Henrique Pureza",
      "photoUrl": "",
      "userId": "13816500187434123400"
     },
     "user_tz": -660
    },
    "id": "KE_fuckKRm2y",
    "outputId": "e0613e30-64fb-4c46-db26-c1217e211d62"
   },
   "outputs": [
    {
     "name": "stdout",
     "output_type": "stream",
     "text": [
      "2 x 3 + 4 = 10\n",
      "2 x (3 + 4) = 14\n"
     ]
    }
   ],
   "source": [
    "print('2 x 3 + 4 =', 2 * 3 + 4)\n",
    "print('2 x (3 + 4) =', 2 * (3 + 4))"
   ]
  },
  {
   "cell_type": "markdown",
   "metadata": {
    "id": "kpDiQukdSpvn"
   },
   "source": [
    "Division will produce a **float** number, regardless of whether the input operands are integers or floats."
   ]
  },
  {
   "cell_type": "code",
   "execution_count": 3,
   "metadata": {
    "colab": {
     "base_uri": "https://localhost:8080/"
    },
    "executionInfo": {
     "elapsed": 1211,
     "status": "ok",
     "timestamp": 1616658536944,
     "user": {
      "displayName": "Henrique Pureza",
      "photoUrl": "",
      "userId": "13816500187434123400"
     },
     "user_tz": -660
    },
    "id": "scqgOnc8TAhA",
    "outputId": "2d55723e-753c-4fb9-88ce-4bbc85293e33"
   },
   "outputs": [
    {
     "name": "stdout",
     "output_type": "stream",
     "text": [
      "Type of numerator and denominator:  <class 'int'> <class 'int'>\n",
      "output = 2.0\n",
      "Type of output:  <class 'float'>\n"
     ]
    }
   ],
   "source": [
    "numerator = 10\n",
    "denominator = 5\n",
    "\n",
    "print('Type of numerator and denominator: ', type(numerator), type(denominator))\n",
    "\n",
    "print('output =', numerator/denominator)\n",
    "print('Type of output: ', type(numerator/denominator))\n"
   ]
  },
  {
   "cell_type": "code",
   "execution_count": 2,
   "metadata": {
    "colab": {
     "base_uri": "https://localhost:8080/"
    },
    "executionInfo": {
     "elapsed": 1399,
     "status": "ok",
     "timestamp": 1616658532918,
     "user": {
      "displayName": "Henrique Pureza",
      "photoUrl": "",
      "userId": "13816500187434123400"
     },
     "user_tz": -660
    },
    "id": "yN7hpW_lYzZM",
    "outputId": "17a6e505-df59-49e4-b36b-b869d64f2b72"
   },
   "outputs": [
    {
     "name": "stdout",
     "output_type": "stream",
     "text": [
      "3.3333333333333335\n"
     ]
    }
   ],
   "source": [
    "print(10/3)"
   ]
  },
  {
   "cell_type": "markdown",
   "metadata": {
    "id": "WulkPoAzVPIZ"
   },
   "source": [
    "We will now introduce the less popular sister of division - **floor division** `//`. This will give us a **whole number quotient** without the remainder. For instance, we note that $\\frac{17}{5}=3 \\text{ remainder } 2$. The floor division `17 // 5` will give us `3`. Try it now!\n"
   ]
  },
  {
   "cell_type": "code",
   "execution_count": 4,
   "metadata": {
    "id": "VZfMqPzgWm0s"
   },
   "outputs": [
    {
     "name": "stdout",
     "output_type": "stream",
     "text": [
      "3\n"
     ]
    }
   ],
   "source": [
    "print(17 // 5)"
   ]
  },
  {
   "cell_type": "markdown",
   "metadata": {
    "id": "biO6bYroXiKO"
   },
   "source": [
    "The floor division operator has a boyfriend who makes her life whole - **modulo**, denoted in python as `%`. The modulo operator returns the remainder of a division. As with the above example $\\frac{17}{5}=3 \\text{ remainder } 2$, the modulo operation `17 % 5` will give us `2`."
   ]
  },
  {
   "cell_type": "code",
   "execution_count": 5,
   "metadata": {
    "id": "q8KTjMshXzXq"
   },
   "outputs": [
    {
     "name": "stdout",
     "output_type": "stream",
     "text": [
      "2\n"
     ]
    }
   ],
   "source": [
    "print(17 % 5)"
   ]
  },
  {
   "cell_type": "markdown",
   "metadata": {
    "id": "zPZgBf2TZEK2"
   },
   "source": [
    "We use `**` to represent the **power** operator. Thus, to express $a^b$ in Python, we use `a ** b`.\n"
   ]
  },
  {
   "cell_type": "code",
   "execution_count": null,
   "metadata": {
    "id": "CiMQk-QmZFed"
   },
   "outputs": [],
   "source": [
    "print(3 ** 2)"
   ]
  },
  {
   "cell_type": "markdown",
   "metadata": {
    "id": "aXiOGOgXUpXp"
   },
   "source": [
    "**Exercise 3:**   \n",
    "**Have a play around with your new math programming skills! Make some equations!**"
   ]
  },
  {
   "cell_type": "code",
   "execution_count": null,
   "metadata": {
    "id": "zFFUiOsMU-oa"
   },
   "outputs": [],
   "source": [
    "# Exercise 3\n",
    "### The freedom is yours ###\n"
   ]
  },
  {
   "cell_type": "markdown",
   "metadata": {
    "id": "B4G4LC4QmH9a"
   },
   "source": [
    "**Exercise 4:**  \n",
    "**A patient has been in hospital for a number of days. As us humans intuitively think in weeks and days rather than just days, create a calculator that takes in a number of total days and outputs how many weeks and days that is equal to. For example, 58 days is equal to 8 weeks and 2 days. You may find the `//` and `%` operations helpful.**\n",
    "\n",
    "1.    **Create a variable called `totalDays` and assign to it some integer between $20$ and $100$.**\n",
    "2.    **Calculate `weeks` and `days` from `totalDays`. Print `weeks` and `days`.**\n"
   ]
  },
  {
   "cell_type": "code",
   "execution_count": null,
   "metadata": {
    "id": "wVmNRPYwDIMH"
   },
   "outputs": [],
   "source": [
    "# Exercise 4\n"
   ]
  },
  {
   "cell_type": "markdown",
   "metadata": {
    "id": "Y6j3bV2eGKjP"
   },
   "source": [
    "**Exercise 5A (Optional): Can you figure out why `a // b` returns identical results to `int(a / b)`? If you want, use the following code chunk to play around.**\n",
    "\n",
    "**Exercise 5B (Optional): Can you figure out why `a % b` returns identical results to `a - (a // b) * b`? If you want, use the following code chunk to play around.**"
   ]
  },
  {
   "cell_type": "code",
   "execution_count": null,
   "metadata": {
    "id": "7fWB_m1rGKOb"
   },
   "outputs": [],
   "source": [
    "# Exercise 5A and 5B"
   ]
  },
  {
   "cell_type": "markdown",
   "metadata": {
    "id": "6F3shUQia5Sn"
   },
   "source": [
    "###**Operations between different data types**\n",
    "\n",
    "It is possible to use perform operations between different data types.\n",
    "\n",
    "As introduced in Workshop 1, operator mashing between **strings** and **integers** can be used to modify the string."
   ]
  },
  {
   "cell_type": "code",
   "execution_count": 4,
   "metadata": {
    "colab": {
     "base_uri": "https://localhost:8080/"
    },
    "executionInfo": {
     "elapsed": 1194,
     "status": "ok",
     "timestamp": 1616658689543,
     "user": {
      "displayName": "Henrique Pureza",
      "photoUrl": "",
      "userId": "13816500187434123400"
     },
     "user_tz": -660
    },
    "id": "qKf6CcFIb4NP",
    "outputId": "6e39845a-177e-41c6-f03d-23fabe66832e"
   },
   "outputs": [
    {
     "name": "stdout",
     "output_type": "stream",
     "text": [
      "OiOiOi\n"
     ]
    }
   ],
   "source": [
    "print('Oi'*3)"
   ]
  },
  {
   "cell_type": "markdown",
   "metadata": {
    "id": "jdAvvRTacHwt"
   },
   "source": [
    "Maths operations between **floats** and **integers** will create a new **float** number."
   ]
  },
  {
   "cell_type": "code",
   "execution_count": 5,
   "metadata": {
    "colab": {
     "base_uri": "https://localhost:8080/"
    },
    "executionInfo": {
     "elapsed": 1018,
     "status": "ok",
     "timestamp": 1616658702629,
     "user": {
      "displayName": "Henrique Pureza",
      "photoUrl": "",
      "userId": "13816500187434123400"
     },
     "user_tz": -660
    },
    "id": "6P7XgUSNcV8f",
    "outputId": "1fb3dfce-3a5b-421a-da13-ca3aad98234c"
   },
   "outputs": [
    {
     "name": "stdout",
     "output_type": "stream",
     "text": [
      "Type of the integer 3:  <class 'int'>\n",
      "Type of the float 4. :  <class 'float'>\n",
      "The result 25.0 has the type <class 'float'>\n"
     ]
    }
   ],
   "source": [
    "the_int = 3\n",
    "the_float = 4.  # Note that the decimal point ensures that the 4 is a float\n",
    "\n",
    "print('Type of the integer 3: ', type(the_int))\n",
    "print('Type of the float 4. : ', type(the_float))\n",
    "\n",
    "# Mathematical food processor; don't worry about exactly what this means as it's just an illustrative example\n",
    "finished_product = (the_int + the_float) * the_float - the_int\n",
    "\n",
    "print(f'The result {finished_product} has the type {type(finished_product)}')"
   ]
  },
  {
   "cell_type": "markdown",
   "metadata": {
    "id": "saCo1gWWdbE0"
   },
   "source": [
    "###**Division by zero**\n",
    "\n",
    "If you still haven't tried that yet, we applaud your self-control.\n",
    "\n",
    "However, now is the time to enjoy a little *sin*."
   ]
  },
  {
   "cell_type": "code",
   "execution_count": 1,
   "metadata": {
    "colab": {
     "base_uri": "https://localhost:8080/",
     "height": 181
    },
    "executionInfo": {
     "elapsed": 644,
     "status": "error",
     "timestamp": 1616658725904,
     "user": {
      "displayName": "Henrique Pureza",
      "photoUrl": "",
      "userId": "13816500187434123400"
     },
     "user_tz": -660
    },
    "id": "GadDCSOOeSq3",
    "outputId": "75b136bd-bda2-49ae-ba7b-1e37c1c3320e"
   },
   "outputs": [
    {
     "ename": "ZeroDivisionError",
     "evalue": "division by zero",
     "output_type": "error",
     "traceback": [
      "\u001b[0;31m---------------------------------------------------------------------------\u001b[0m",
      "\u001b[0;31mZeroDivisionError\u001b[0m                         Traceback (most recent call last)",
      "\u001b[0;32m<ipython-input-1-8802a713aa62>\u001b[0m in \u001b[0;36m<module>\u001b[0;34m\u001b[0m\n\u001b[1;32m      1\u001b[0m \u001b[0;31m### THE RED PILL ###\u001b[0m\u001b[0;34m\u001b[0m\u001b[0;34m\u001b[0m\u001b[0;34m\u001b[0m\u001b[0m\n\u001b[0;32m----> 2\u001b[0;31m \u001b[0mprint\u001b[0m\u001b[0;34m(\u001b[0m\u001b[0;36m42\u001b[0m\u001b[0;34m/\u001b[0m\u001b[0;36m0\u001b[0m\u001b[0;34m)\u001b[0m\u001b[0;34m\u001b[0m\u001b[0;34m\u001b[0m\u001b[0m\n\u001b[0m",
      "\u001b[0;31mZeroDivisionError\u001b[0m: division by zero"
     ]
    }
   ],
   "source": [
    "### THE RED PILL ###\n",
    "print(42/0)"
   ]
  },
  {
   "cell_type": "markdown",
   "metadata": {
    "id": "1NHDAkROeWz-"
   },
   "source": [
    "Against popular belief, you do not actually create a **black hole** when you divide by zero.\n",
    "\n",
    "Try to imbue yourself in the magic of the error message. It might be confronting at first, but when broken down, all it's trying to say is:\n",
    "- Location of the error (with a helpful arrow pointing towards the line of code);\n",
    "- What has caused the error.\n",
    "\n",
    "Here is a cool guide on the common errors in python and how to debug them: \n",
    "https://pythonforbiologists.com/29-common-beginner-errors-on-one-page"
   ]
  },
  {
   "cell_type": "markdown",
   "metadata": {
    "id": "9xH6bHS3_5A8"
   },
   "source": [
    "---\n",
    "\n",
    "# 3) Updating Variables\n"
   ]
  },
  {
   "cell_type": "markdown",
   "metadata": {
    "id": "ihCxgmrsP3jB"
   },
   "source": [
    "As previously mentioned, we use **variables** to store data values. This is called **variable assignment**. The data could be anything - strings, integers, numbers, etc.\n",
    "\n",
    "Just imagine the `=` symbol being a virtual hand that places the data value on the **right hand side** into the box on the **left hand side**.\n",
    "\n",
    "```python\n",
    "# Assigning variable - putting the value in the box\n",
    "variable = 'value'\n",
    "```\n",
    "\n",
    "\"And what if the value of our data changes?\"\n",
    "\n",
    "We can **update** the value in our **variable** container at any stage by assigning a new value:\n",
    "\n",
    "```python\n",
    "# Update the variable with our new value\n",
    "variable = 'new value'\n",
    "```"
   ]
  },
  {
   "cell_type": "markdown",
   "metadata": {
    "id": "nWolZ900AQrf"
   },
   "source": [
    "**Example:**  \n",
    "You are the intern at a busy metropolitan ED. You ask for the patient's name, take a beautiful history and exam and you're ready to type up the admission note. You start typing the admission note of the patient \"Jane\" but you realise you have forgotten to ask her last name!"
   ]
  },
  {
   "cell_type": "code",
   "execution_count": null,
   "metadata": {
    "colab": {
     "base_uri": "https://localhost:8080/"
    },
    "executionInfo": {
     "elapsed": 2172,
     "status": "ok",
     "timestamp": 1616284936130,
     "user": {
      "displayName": "Chun Yau Gan",
      "photoUrl": "",
      "userId": "00235926977462898669"
     },
     "user_tz": -660
    },
    "id": "tci-9-fsAP4V",
    "outputId": "7bfbdb4f-bbec-4f9c-df57-f307ce0758b8"
   },
   "outputs": [
    {
     "name": "stdout",
     "output_type": "stream",
     "text": [
      "Jane Smith\n"
     ]
    }
   ],
   "source": [
    "#Jane\n",
    "patientName = \"Jane\"\n",
    "\n",
    "#Now to update her name\n",
    "patientName = \"Jane Smith\"\n",
    "print(patientName)"
   ]
  },
  {
   "cell_type": "code",
   "execution_count": null,
   "metadata": {
    "colab": {
     "base_uri": "https://localhost:8080/"
    },
    "executionInfo": {
     "elapsed": 1641,
     "status": "ok",
     "timestamp": 1616284940344,
     "user": {
      "displayName": "Chun Yau Gan",
      "photoUrl": "",
      "userId": "00235926977462898669"
     },
     "user_tz": -660
    },
    "id": "YQq94-XAAHDt",
    "outputId": "a320ab74-da1c-41b0-af84-189e77781efb"
   },
   "outputs": [
    {
     "name": "stdout",
     "output_type": "stream",
     "text": [
      "Jane Smith\n"
     ]
    }
   ],
   "source": [
    "#Suddenly, all the patients are either discharged from ED or moved to the ward. \n",
    "#With all this extra time, you perform hand hygiene, \n",
    "#you whip your $800 coffee grinder out of your bag, \n",
    "#grind some beans to warm up your hands, \n",
    "#crack your knuckles...\n",
    "#And now it's time to lay down some fancy coding on the hospital computers >:)\n",
    "patientName = \"Jane\"\n",
    "patientName = patientName + \" Smith\" #concatenation yeah\n",
    "print(patientName)"
   ]
  },
  {
   "cell_type": "markdown",
   "metadata": {
    "id": "tXQ_lkUCC9fs"
   },
   "source": [
    "**Example:**  \n",
    "It's 3pm in the ED. The consultant from the afternoon shift arrives. His name is Dr Fibonacci. You decide that you want to impress him...\n",
    "\n",
    "(Note that variables defined in early chunks carry over into later chunks) "
   ]
  },
  {
   "cell_type": "code",
   "execution_count": 2,
   "metadata": {
    "id": "dQcDOMPZDGJ5"
   },
   "outputs": [
    {
     "name": "stdout",
     "output_type": "stream",
     "text": [
      "1\n",
      "1\n",
      "2\n"
     ]
    }
   ],
   "source": [
    "a = 1\n",
    "b = 1\n",
    "print(a)\n",
    "print(b)\n",
    "# Nothing too surprising here\n",
    "\n",
    "c = a + b\n",
    "print(c)\n",
    "# Yup, this makes sense too"
   ]
  },
  {
   "cell_type": "code",
   "execution_count": 3,
   "metadata": {
    "id": "qpoZraQVXdWE"
   },
   "outputs": [
    {
     "name": "stdout",
     "output_type": "stream",
     "text": [
      "3\n"
     ]
    }
   ],
   "source": [
    "a = b       # Making 'a' take the same value as the old 'b' (ie. 1)\n",
    "b = c       # Making 'b' take the same value as the old 'c' (ie. 2)\n",
    "c = a + b   # Making 'c' take the value of the sum of the new 'a' and 'b' (ie. 1+2)\n",
    "print(c)"
   ]
  },
  {
   "cell_type": "code",
   "execution_count": null,
   "metadata": {
    "id": "iEptBe_AXen2"
   },
   "outputs": [],
   "source": [
    "a = b       # Making 'a' take the same value as the old 'b' (ie. 2)\n",
    "b = c       # Making 'b' take the same value as the old 'c' (ie. 3)\n",
    "c = a + b   # Making 'c' take the value of the sum of the new 'a' and 'b' (ie. 2+3)\n",
    "print(c)\n",
    "# This is an identical code-chunk to the above, but note how the results change."
   ]
  },
  {
   "cell_type": "markdown",
   "metadata": {
    "id": "UPTTOgaKs4x5"
   },
   "source": [
    "Note that `=` is **not** the equals symbol we all know and love in maths. It is strictly used for assigning values to a variable. To make this more explicit: \n",
    "*  In maths, $=$ is a symbol indicating logical equivalence: that is, $a=b$ is a statement that $a$ and $b$ are equivalent.\n",
    "*  In Python, `=` is a symbol telling Python to take action: that is, `a = b` tells Python to assign the value of `b` to the variable `a`. It is **not** a statement of equivalence.\n",
    "\n",
    "To check if a varible is equal another, we use `==`. This is something that we will discuss futher in our next workshop."
   ]
  },
  {
   "cell_type": "markdown",
   "metadata": {
    "id": "REEZ_7jxNIMM"
   },
   "source": [
    "**Exercise 6:**  \n",
    "**The nurse asks you, a keen medical student, to update the current oxygen saturation (SpO2) in a COPD patient Mr Kunz on the Respiratory Ward. The old SpO2 from 1 hour ago was 89%. The nurse just recorded a new SpO2 of 93% this hour.**\n",
    "\n",
    "1.   **Record the SpO2 (in %) from an hour ago in a variable called `O2sat`**\n",
    "2.   **Print `O2sat`**\n",
    "3.   **Update the SpO2 with the current reading.**\n",
    "4.   **Print `O2sat`**\n",
    "\n",
    "**New**  \n",
    "The lab you are working in has a strict temperature control regime. In order to maintain optimal conditions for specimens, the lab temperature has to stay within $1^{o}C$ of $30^{o}C$. There is a thermostat that allows you to control the temperature. The current temperature is $31.1^{o}C$ and the current thermostat is set to $31^{o}C$. To prevent prolonged exposure to unfavourable conditions, you decide to turn down the thermostat to $30^{o}C$.\n",
    "\n",
    "1. Record the current thermostat temperature in a variable called `thermostat_temp`\n",
    "2. Print `thermostat_temp`\n",
    "3. Update `thermostat_temp` to $30^{o}C$\n",
    "4. Print `thermostat_temp`\n",
    "5. Check on your imaginary specimens to ensure they are healthy\n",
    "\n",
    "*Extension*  \n",
    "An hour later, the thermostat started malfunctioning causing the temperature to drop to $29^{o}C$. You decided that it is time to switch brands from *Panasonic* to *Toshiba*. To prevent confusion in the current brand, you decided to change the reporting system to include the brand of the thermostat. \n",
    "\n",
    "1. Create a new variable `brand` and store the current brand (Panasonic)\n",
    "2. Print the report in the format of 'Panasonic: 29' where Panasonic is defined by `brand` and 29 is defined by `thermostat_temp`\n",
    "3. Update the `brand` to Toshiba and `thermostat_temp` to 30\n",
    "4. Print the report again with the new values\n",
    "\n",
    "*Hint*  \n",
    "The key to this is remembering the different ways of printing and formatting strings.\n",
    "\n",
    "Common ways include:\n",
    "* f'I am {name}', where name is a variable\n",
    "* 'I am ' + name"
   ]
  },
  {
   "cell_type": "code",
   "execution_count": null,
   "metadata": {
    "id": "csX_W7h1Oj1k"
   },
   "outputs": [],
   "source": [
    "# Exercise 6\n"
   ]
  },
  {
   "cell_type": "markdown",
   "metadata": {
    "id": "NYtQ28VmQ3uU"
   },
   "source": [
    "**Exercise 7:**  \n",
    "**Yesterday morning, Mr Kunz's weight was 97.2kg. Having started on frusemide, his weight has dropped 4.5kg by this morning.**\n",
    "\n",
    "\n",
    "1.   **Express his old weight (in kg) in a variable `weightKunz`**\n",
    "2.   **Print `weightKunz`**\n",
    "3.   **Update the variable `weightKunz` using the format `weightKunz = weightKunz - y` where `y` is the change that has happened.** \n",
    "4.   **Print `weightKunz`**\n",
    "\n",
    "**New**  \n",
    "**You started dehydrating a hydrogel (polymeric material consisting of mostly water) which weighed 500g initially. Having been drying for an hour, it now weighs 250g.**\n",
    "\n",
    "1. [x] **Express the old weight (in g) in a variable `gel_weight`**\n",
    "2. [x] **Print `gel_weight`**\n",
    "3. [x] **Update the variable `gel_weight` to the new weight**\n",
    "4. [x] **Print the new `gel_weight`**\n"
   ]
  },
  {
   "cell_type": "code",
   "execution_count": null,
   "metadata": {
    "id": "WLAfQ5u8Q3P3"
   },
   "outputs": [],
   "source": [
    "# Exercise 7\n",
    "# Mr Kunz's weight\n"
   ]
  },
  {
   "cell_type": "markdown",
   "metadata": {
    "id": "lxBoTYvv_p7g"
   },
   "source": [
    "###**Incrementation**\n",
    "\n",
    "We can also update a variable with reference to its old value. For example, `x = x + 1` means to assign to `x` the value of \"the old value of `x` plus $1$\". In a sense, we've overwritten the variable `x` with the next number up. This sort of variable-updating process is known as \"incrementation\"."
   ]
  },
  {
   "cell_type": "code",
   "execution_count": null,
   "metadata": {
    "id": "QacmnanPY5Kz"
   },
   "outputs": [],
   "source": [
    "x = 0       # defining the initial x to be 0\n",
    "print(x)\n",
    "\n",
    "x = x + 1   # overwriting x with 1\n",
    "print(x)\n",
    "\n",
    "x = x + 1   # overwriting x with 1+1\n",
    "print(x)\n",
    "\n",
    "x = x + 1   # overwriting x with 2+1\n",
    "print(x)\n",
    "\n",
    "x = x + 1   # overwriting x with 3+1\n",
    "print(x)"
   ]
  },
  {
   "cell_type": "markdown",
   "metadata": {
    "id": "yR4Z2N-HY5fg"
   },
   "source": [
    "If your inner mathematician is screaming in objection, we offer you a couple sacrilegious alternatives for **iteration**:\n",
    "\n",
    "    # Instead of doing this x = x + 5, do:\n",
    "    x += 5\n",
    "\n",
    "It comes with all the possible flavours:\n",
    "- `x -= 5`  is identical to: `x = x - 5`\n",
    "- `x *= 5`  is identical to: `x = x * 5`\n",
    "- `x /= 5`  is identical to: `x = x / 5`\n",
    "- `x //= 5`  is identical to: `x = x // 5`\n",
    "- `x %= 5`  is identical to: `x = x % 5`\n",
    "- `x **= 5`  is identical to: `x = x ** 5`\n",
    "\n",
    "For example, the same code chunk from above can be succinctly written as"
   ]
  },
  {
   "cell_type": "code",
   "execution_count": null,
   "metadata": {
    "id": "8Kvrfgug_Ljj"
   },
   "outputs": [],
   "source": [
    "x = 0       # defining the initial x to be 0\n",
    "print(x)\n",
    "\n",
    "x += 1   # overwriting x with 1\n",
    "print(x)\n",
    "\n",
    "x += 1   # overwriting x with 1+1\n",
    "print(x)\n",
    "\n",
    "x += 1   # overwriting x with 2+1\n",
    "print(x)\n",
    "\n",
    "x += 1   # overwriting x with 3+1\n",
    "print(x)"
   ]
  },
  {
   "cell_type": "markdown",
   "metadata": {
    "id": "fL5sh_mGLdNb"
   },
   "source": [
    "Note:  \n",
    "The inbuilt method `range` achieves the same thing as the example above (without printing). These methods can help us **save time** by avoiding the need to re-write code that may be less efficient. As you will see in the next workshop, `range` can be useful when working with **loops**."
   ]
  },
  {
   "cell_type": "markdown",
   "metadata": {
    "id": "mH4H5I11_b94"
   },
   "source": [
    "Another example:"
   ]
  },
  {
   "cell_type": "code",
   "execution_count": null,
   "metadata": {
    "colab": {
     "base_uri": "https://localhost:8080/"
    },
    "executionInfo": {
     "elapsed": 2060,
     "status": "ok",
     "timestamp": 1616231256459,
     "user": {
      "displayName": "Ian Zhuo",
      "photoUrl": "",
      "userId": "09562546780153233237"
     },
     "user_tz": -480
    },
    "id": "mxgRBVi6tDVL",
    "outputId": "1c9e3c68-53c5-49e6-a0e4-c4ec9a95d4aa"
   },
   "outputs": [
    {
     "name": "stdout",
     "output_type": "stream",
     "text": [
      "The original x: 3\n",
      "The new x given by x /= 5 is: 0.6\n"
     ]
    }
   ],
   "source": [
    "x = 3\n",
    "print('The original x:', x)\n",
    "\n",
    "x /= 5\n",
    "print('The new x given by x /= 5 is:', x)"
   ]
  },
  {
   "cell_type": "markdown",
   "metadata": {
    "id": "e0UPijkCF99b"
   },
   "source": [
    "**New**  \n",
    "Note:  \n",
    "`+=` can be used to achieve string concatenation."
   ]
  },
  {
   "cell_type": "code",
   "execution_count": null,
   "metadata": {
    "id": "U9QFm1g5GPw3"
   },
   "outputs": [],
   "source": [
    "#NEW\n",
    "#Example\n",
    "new_patientName = \"John\"\n",
    "print(f'The patient is {new_patientName}')\n",
    "\n",
    "new_patientName += \" Smith\"\n",
    "print(f'The patient is {new_patientName}')"
   ]
  },
  {
   "cell_type": "markdown",
   "metadata": {
    "id": "jT4aPc-bGjXB"
   },
   "source": [
    "**New**\n",
    "\n",
    "Don't worry if this is confusing you. The main point is that there are usually **many ways** of achieving the same outcome from fancy one-liners to inefficient codes. However, the key thing to remember is that we should aim for **readability** especially when it comes to debugging your own code or collaborative work.  "
   ]
  },
  {
   "cell_type": "markdown",
   "metadata": {
    "id": "HVS-W81cU5z5"
   },
   "source": [
    "**Exercise 8:**  \n",
    "**You are spending the morning in the pathology lab and the pathologist introduces you to a mystical bacteria that grows in a multiplicative fashion, meaning that every hour, the number of bacteria on the dish is $5\\times$ what was present 1 hour ago. At Hour 0, the number of bacteria on the dish is 4.**\n",
    "1.   **Create a variable `time` and assign the value `0` to it**\n",
    "2.   **Create a variable `bacteria` and assign the value `4` to it**\n",
    "3.   **Print a statement about the current time and number of bacteria on the dish**\n",
    "4.   **Use `+=` to increase `time` by 1, and use `*=` to multiply `bacteria` by 5. Print the statement again.**\n",
    "5.   **Repeat Step 4 (ie. copy-paste Step 4's code) to work out how many bacteria are on the dish at 2, 3, 4 and 5 hours.**"
   ]
  },
  {
   "cell_type": "code",
   "execution_count": null,
   "metadata": {
    "id": "ueSCGojQWS-9"
   },
   "outputs": [],
   "source": [
    "# Exercise 8\n",
    "# Mystical Bacteria\n"
   ]
  },
  {
   "cell_type": "markdown",
   "metadata": {
    "id": "6n3WT8jGWaCS"
   },
   "source": [
    "**Exercise 9:**  \n",
    "**The half-life of a drug is the time taken for half the drug to be eliminated from the body. \n",
    "Ms Harris receives 100 units of Drug A at minute 0. The half-life of this drug is 20 minutes. Suppose the level of drug in Ms Harris' is recorded system once every 20 minutes. We want to know at what time will we record a drug level under 5 for the first time .**\n",
    "\n",
    "1.   **Create a variable `time` and assign the value `0` to it**\n",
    "2.   **Create a variable `drug` and assign the value `100` to it**\n",
    "3.   **Print a statement about the current time and drug level.**\n",
    "4.   **For the next recording, use `+=` to increase `time`, and use `/=` to update the drug level. Print the statement again.**\n",
    "5.   **Repeat Step 4 (ie. copy-paste Step 4's code) until the drug level falls below 5.**\n",
    "\n",
    "*Note*:  \n",
    "This exercise is pretty similar to the previous one. If you feel comfortable with the previous question, feel free to skip this one, although practicing can help reinforce your learning."
   ]
  },
  {
   "cell_type": "code",
   "execution_count": null,
   "metadata": {
    "id": "oALsMwZudEhu"
   },
   "outputs": [],
   "source": [
    "# Exercise 9\n",
    "# Half-life\n"
   ]
  },
  {
   "cell_type": "markdown",
   "metadata": {
    "id": "nRNNSj1GSWzc"
   },
   "source": [
    "A lot of copy-pasting happened in Exercises 8 and 9, and you might wonder whether there's an easier/smarter way to run repeated code. The answer is yes! The specific tool is called \"loops\", and we'll learn about loops in a future workshop. For now, we'll just do it the dumb way."
   ]
  },
  {
   "cell_type": "markdown",
   "metadata": {
    "id": "muynxkUzdhjB"
   },
   "source": [
    "**Exercise 10 (Optional):**  \n",
    "**During the first few hours of a night shift in an Emergency Department (ED), on average 3 patients discharge home and 1.5 patients are admitted every hour. At the start of the night shift at 6pm one evening, there are 13 patients in the ED.**\n",
    " \n",
    "\n",
    "1.    **Print the number of patients in the ED initially at 6pm.**\n",
    "2.    **Print how many patients we expect to be in the ED at 8pm, 10pm and midnight. Use incrementation like you did in Exercises 7 and 8 to solve this.**\n",
    "\n",
    "Hint:  \n",
    "If you are finding this challenging, start with defining the changes that occur during each hour. After that, the process is pretty much the same as Exercises 8 and 9.\n"
   ]
  },
  {
   "cell_type": "code",
   "execution_count": null,
   "metadata": {
    "id": "JOSdWcBU96tI"
   },
   "outputs": [],
   "source": [
    "# Exercise 10\n",
    "# ED Night Shift\n"
   ]
  },
  {
   "cell_type": "markdown",
   "metadata": {
    "id": "YCLnLkyEGXHx"
   },
   "source": [
    "---\n",
    "\n",
    "# 4) Data Type Conversions\n",
    "\n",
    "If appropriate, you can convert one data type to another data type. \n",
    "  * `str(x)` converts `x` to a string\n",
    "  * `int(x)` converts `x` to an integer\n",
    "  * `float(x)` converts `x` to a float\n",
    "  * `bool(x)` converts `x` to a boolean\n",
    "\n",
    "For example running \n",
    "    \n",
    "    int(\"5\")\n",
    "\n",
    "returns `5`, while running\n",
    "\n",
    "    str(5)\n",
    "    \n",
    "returns `\"5\"`.\n",
    "\n",
    "We will discuss the concepts of boolean in the next workshop."
   ]
  },
  {
   "cell_type": "code",
   "execution_count": null,
   "metadata": {
    "colab": {
     "base_uri": "https://localhost:8080/"
    },
    "executionInfo": {
     "elapsed": 1481,
     "status": "ok",
     "timestamp": 1616231354579,
     "user": {
      "displayName": "Ian Zhuo",
      "photoUrl": "",
      "userId": "09562546780153233237"
     },
     "user_tz": -480
    },
    "id": "c-Tjg1cTGZfM",
    "outputId": "f53f276c-fd17-493d-e459-b777dbc78aaa"
   },
   "outputs": [
    {
     "name": "stdout",
     "output_type": "stream",
     "text": [
      "65\n",
      "<class 'int'>\n",
      "65\n",
      "<class 'str'>\n",
      "65.0\n",
      "<class 'float'>\n"
     ]
    }
   ],
   "source": [
    "Age = 65        # in years\n",
    "print(Age)\n",
    "print(type(Age))      # Integer type\n",
    "\n",
    "# Convert to string\n",
    "str_Age = str(Age)\n",
    "print(str_Age)\n",
    "print(type(str_Age))\n",
    "\n",
    "# Convert to float\n",
    "float_Age = float(Age)\n",
    "print(float_Age)\n",
    "print(type(float_Age))"
   ]
  },
  {
   "cell_type": "code",
   "execution_count": 9,
   "metadata": {
    "id": "VaT0E4O4GzqK"
   },
   "outputs": [
    {
     "name": "stdout",
     "output_type": "stream",
     "text": [
      "1.7\n",
      "<class 'float'>\n",
      "1\n",
      "<class 'int'>\n"
     ]
    }
   ],
   "source": [
    "Height = 1.70     # in metres\n",
    "print(Height)\n",
    "print(type(Height))     # Float type\n",
    "\n",
    "# Convert to integer (note that the decimals are truncated)\n",
    "i_Height = int(Height)\n",
    "print(i_Height)\n",
    "print(type(i_Height))"
   ]
  },
  {
   "cell_type": "markdown",
   "metadata": {
    "id": "J9nMaRFrIjn0"
   },
   "source": [
    "Note:  \n",
    "When converting `int` to `float`, python will always just remove the decimal points.(ie. `int(0.9999)` will be converted to `0`)"
   ]
  },
  {
   "cell_type": "markdown",
   "metadata": {
    "id": "v4PSMlcRLGjv"
   },
   "source": [
    "Data type conversion becomes **particularly important** when you are retrieving user values from the **input** function, as the `input()` function always returns a string, even if the input contained digits."
   ]
  },
  {
   "cell_type": "markdown",
   "metadata": {},
   "source": [
    "⬇️  The code below is supposed to add two number that the user inputs, notice how this doesnt gives us an error, but has a bug in it, can you find why?"
   ]
  },
  {
   "cell_type": "code",
   "execution_count": 14,
   "metadata": {},
   "outputs": [
    {
     "name": "stdout",
     "output_type": "stream",
     "text": [
      "Enter two numbers to add\n"
     ]
    },
    {
     "name": "stdin",
     "output_type": "stream",
     "text": [
      "Enter first number:  2\n",
      "Enter second number:  3\n"
     ]
    },
    {
     "name": "stdout",
     "output_type": "stream",
     "text": [
      "2 + 3 equals to 23\n"
     ]
    }
   ],
   "source": [
    "print(\"Enter two numbers to add\")\n",
    "number1 = input(\"Enter first number: \")\n",
    "number2 = input(\"Enter second number: \")\n",
    "\n",
    "print(number1, \"+\", number2, \"equals to\", number1+number2)\n"
   ]
  },
  {
   "cell_type": "markdown",
   "metadata": {},
   "source": [
    "We have to convert the input to an integer in order to make mathematical operations."
   ]
  },
  {
   "cell_type": "code",
   "execution_count": 15,
   "metadata": {
    "id": "DdXSVf7CLhGp"
   },
   "outputs": [
    {
     "name": "stdin",
     "output_type": "stream",
     "text": [
      "How many doctors does it take to change a lightbulb? (0 to 100):  40\n"
     ]
    },
    {
     "name": "stdout",
     "output_type": "stream",
     "text": [
      "Input type:  <class 'str'>\n",
      "Type after conversion:  <class 'int'>\n",
      "That would be 20 pairs of doctors.\n"
     ]
    }
   ],
   "source": [
    "should_be_a_number_but_actually_a_string = input('How many doctors does it take to change a lightbulb? (0 to 100): ')\n",
    "print('Input type: ', type(should_be_a_number_but_actually_a_string))\n",
    "\n",
    "# Convert the data into an integer to allow mathematical computation\n",
    "now_a_number = int(should_be_a_number_but_actually_a_string)\n",
    "print('Type after conversion: ', type(now_a_number))\n",
    "\n",
    "# Mathematicians here will be proud\n",
    "print('That would be', now_a_number // 2, 'pairs of doctors.')"
   ]
  },
  {
   "cell_type": "markdown",
   "metadata": {
    "id": "53ihU0HtIu1r"
   },
   "source": [
    "Note that some data values cannot be converted to another data value. For instance, trying to convert `\"Text\"` to an integer using `int(\"Text\")` returns an error!"
   ]
  },
  {
   "cell_type": "code",
   "execution_count": 16,
   "metadata": {
    "id": "TGDyZN89I0o4"
   },
   "outputs": [
    {
     "ename": "ValueError",
     "evalue": "invalid literal for int() with base 10: 'troublemaker'",
     "output_type": "error",
     "traceback": [
      "\u001b[0;31m---------------------------------------------------------------------------\u001b[0m",
      "\u001b[0;31mValueError\u001b[0m                                Traceback (most recent call last)",
      "\u001b[0;32m<ipython-input-16-ffb7a74e94c9>\u001b[0m in \u001b[0;36m<module>\u001b[0;34m\u001b[0m\n\u001b[1;32m      1\u001b[0m \u001b[0;31m# Some good ol' error messages\u001b[0m\u001b[0;34m\u001b[0m\u001b[0;34m\u001b[0m\u001b[0;34m\u001b[0m\u001b[0m\n\u001b[0;32m----> 2\u001b[0;31m \u001b[0mint\u001b[0m\u001b[0;34m(\u001b[0m\u001b[0;34m'troublemaker'\u001b[0m\u001b[0;34m)\u001b[0m\u001b[0;34m\u001b[0m\u001b[0;34m\u001b[0m\u001b[0m\n\u001b[0m",
      "\u001b[0;31mValueError\u001b[0m: invalid literal for int() with base 10: 'troublemaker'"
     ]
    }
   ],
   "source": [
    "# Some good ol' error messages\n",
    "int('troublemaker')"
   ]
  },
  {
   "cell_type": "markdown",
   "metadata": {
    "id": "69oP28bCjgLc"
   },
   "source": [
    "**Exercise 11:**  \n",
    " \n",
    "1.   **Run the following code chunk. You should see an error.**\n",
    "2.   **Using the feedback from the error message, make the necessary alteration to the code in the chunk below by using one of the following functions: `str()`, `int()` or `float()`**\n",
    "\n"
   ]
  },
  {
   "cell_type": "code",
   "execution_count": null,
   "metadata": {
    "id": "8OW5e3O8j1I9"
   },
   "outputs": [],
   "source": [
    "# Exercise 11\n",
    "# Fixing it up\n",
    "x = \"I am aged \"\n",
    "a = 23\n",
    "print(x + a)"
   ]
  },
  {
   "cell_type": "markdown",
   "metadata": {
    "id": "Yxslzu-CxZjY"
   },
   "source": [
    "---\n",
    "\n",
    "# 5) Putting it all together\n",
    "\n",
    "Let's put what we've learnt all together and make some useful tools!\n",
    "\n",
    "We will try to create some calculators based on some medical equations.\n"
   ]
  },
  {
   "cell_type": "markdown",
   "metadata": {
    "id": "_QDJuFazy5vi"
   },
   "source": [
    "**Exercise 12: First, a recap. What is the data type of an input variable?**  \n",
    "1. [x] Create an input variable called `patientAge` that asks for the patient's age.\n",
    "2. [x] Print `patientAge`.\n",
    "3. [x] Print the data type of `patientAge`.\n",
    "\n",
    "\n",
    "**Note how the data type of an input variable is always a string even if we input digits into `patientAge`!**"
   ]
  },
  {
   "cell_type": "code",
   "execution_count": 17,
   "metadata": {
    "id": "t47g_XZC0_Qa"
   },
   "outputs": [],
   "source": [
    "# Exercise 12\n",
    "# patientAge\n"
   ]
  },
  {
   "cell_type": "markdown",
   "metadata": {
    "id": "kEfS9RBeKlpP"
   },
   "source": [
    "**Exercise 13: Convert the data type of an input variable to an integer type** \n",
    "1.   **Create an input variable called `patientAge` that asks for the patient's age.**\n",
    "2.   **Print `patientAge`**\n",
    "3.   **Print the data type of `patientAge`** \n",
    "4.   **Convert `patientAge` to an integer using `int()`**\n",
    "5.   **Print the data type of `patientAge`**"
   ]
  },
  {
   "cell_type": "code",
   "execution_count": null,
   "metadata": {
    "id": "B3NNKYrBFNCv"
   },
   "outputs": [],
   "source": [
    "# Exercise 13\n",
    "# patientAge\n"
   ]
  },
  {
   "cell_type": "markdown",
   "metadata": {
    "id": "zrbfxULeXqgD"
   },
   "source": [
    "**Exercise 14: BMI Calculator**  \n",
    "\n",
    "1.   **Create a height variable, assign your height (m) to it.**  \n",
    "2.   **Create a weight variable, assign your weight (kg) to it.** \n",
    "3.   **Create a BMI variable, assign it the mathematical formula of weight divided by height squared**\n",
    "4.   **Write a print statement that says \"My BMI is (insert BMI here)\"**"
   ]
  },
  {
   "cell_type": "code",
   "execution_count": null,
   "metadata": {
    "id": "9VyU6YeoYZBW"
   },
   "outputs": [],
   "source": [
    "# Exercise 14\n",
    "# BMI Calculator\n"
   ]
  },
  {
   "cell_type": "markdown",
   "metadata": {
    "id": "hJn4S2ClvNJK"
   },
   "source": [
    "**Exercise 15: BMI Calculator with inputs** \n",
    "1.   **Copy-paste your BMI Calculator from above.**\n",
    "2.   **Alter your code to ask for your input height and weight.**\n",
    "**Remember to convert your input variables into the appropriate data type!**\n",
    "\n"
   ]
  },
  {
   "cell_type": "code",
   "execution_count": null,
   "metadata": {
    "id": "KoiAgnIfv2GO"
   },
   "outputs": [],
   "source": [
    "# Exercise 15\n",
    "# BMI Calculator with inputs\n"
   ]
  },
  {
   "cell_type": "markdown",
   "metadata": {
    "id": "SWSwKrppwHmp"
   },
   "source": [
    "**Exercise 16: Mean Arterial Pressure Calculator with inputs**  \n",
    "**Mean arterial pressure is calculated as follows:** $$\\text{MAP}=\\frac{\\text{SystolicBP} + 2\\times\\text{DiastolicBP}}{3}$$\n",
    "\n",
    "\n",
    "1.   **Create a calculator that calculates the MAP from two inputs: the systolic and diastolic BPs** \n",
    "2.   **If the MAP generated is a float, use the `round()` function to round that float to the nearest integer.**   \n",
    "3.   **Print the rounded Mean Arterial Pressure**"
   ]
  },
  {
   "cell_type": "code",
   "execution_count": null,
   "metadata": {
    "id": "BIOeVzpsx8wH"
   },
   "outputs": [],
   "source": [
    "# Exercise 16\n",
    "# Mean Arterial Pressure Calculator"
   ]
  },
  {
   "cell_type": "markdown",
   "metadata": {
    "id": "9sdgWDUOd1w-"
   },
   "source": [
    "Note that when applied to floats, the `round()` and `int()` functions are different because `int()` *always* rounds down, while `round()` can round either down or up depending on the specific float."
   ]
  },
  {
   "cell_type": "markdown",
   "metadata": {
    "id": "n0Zh-qmg97Iu"
   },
   "source": [
    "##**A-a gradient in room air**\n",
    "\n",
    "$$\\text{A-a gradient} = 150 - \\frac{Pa_{CO2}}{0.8} - Pa_{O2}$$\n",
    "\n",
    "Where A-a gradient and arterial blood gas pressures are in mmHg. Furthermore, for a given patient age, the expected gradient is\n",
    "\n",
    "$$\\text{Expected A-a}=\\frac{\\text{age}}{4}+4$$\n",
    "\n",
    "**Exercise 17: A-a gradient**\n",
    "\n",
    "1.  **Write `input()` functions that takes in user-given PaCO2, PaO2 and age. Use appropriate datatype conversions.**\n",
    "2.  **Calculate the A-a gradient from the inputs.**\n",
    "3.  **Calculate the expected A-a gradient for the patient.**"
   ]
  },
  {
   "cell_type": "markdown",
   "metadata": {
    "id": "hf6UrFlJFil-"
   },
   "source": [
    "Again, test your program with the following values and see if the A-a gradients match:\n",
    "- Patient A: age 25, PaO2 90 mmHg, PaCO2 40 mmHg $\\rightarrow$ A-a gradient 10 mmHg, expected gradient 10.25 mmHg;\n",
    "- Patient B: age 50, PaO2 60 mmHg, PaCO2 45 mmHg $\\rightarrow$ A-a gradient 34 mmHg, expected gradient 16.5 mmHg;"
   ]
  },
  {
   "cell_type": "code",
   "execution_count": null,
   "metadata": {
    "id": "v_6HZ7C2DUEU"
   },
   "outputs": [],
   "source": [
    "# Exercise 17\n",
    "# A-a gradient"
   ]
  },
  {
   "cell_type": "markdown",
   "metadata": {
    "id": "LxxuL1a4yEa1"
   },
   "source": [
    "##**eGFR based on the MDRD equation**\n",
    "\n",
    "For a non-Black male patient,\n",
    "\n",
    "\\begin{align}\n",
    "eGFR = 186 × SerumCr^{-1.154} × age^{-0.203}\n",
    "\\end{align}\n",
    "\n",
    "\n",
    "where: \n",
    "- eGFR is in $mL/min$ per 1.73 m²\n",
    "- Serum Creatinine is in $mg/dL$.\n",
    "\n",
    "To convert serum creatinine from $\\mu mol/L$ to $mg/dL$, divide the value in $\\mu mol/L$ by $88.42$.\n",
    "\n",
    "\n",
    "**Exercise 18: eGFR**\n",
    "\n",
    "1.  **Write `input()` functions that takes in user-given age and serum creatinine (in $\\mu mol/L$).**\n",
    "2.  **Perform the appropriate datatype and unit conversions.**\n",
    "2.  **Calculate the eGFR from the inputs, assuming that the patient is a non-Black male.**\n",
    "\n",
    "**We will discuss how to deal with situations involving multiple possible demographics in upcoming workshops.**"
   ]
  },
  {
   "cell_type": "markdown",
   "metadata": {
    "id": "fQ30kb2U4wR-"
   },
   "source": [
    "Here's a bunch of existing data we can use to verify if our program is working. Compare your results to the following eGFR:\n",
    "\n",
    "- Patient A: age 32, creatinine 96 $\\mu mol/L$ $\\rightarrow$ eGFR 83.7 $mL/min$ per 1.73 m²\n",
    "- Patient B: age 65, creatinine 152 $\\mu mol/L$ $\\rightarrow$ eGFR 42.7 $mL/min$ per 1.73 m²"
   ]
  },
  {
   "cell_type": "code",
   "execution_count": null,
   "metadata": {
    "id": "j0HYamwvAGkA"
   },
   "outputs": [],
   "source": [
    "# Exercise 18\n",
    "# eGFR calculations"
   ]
  },
  {
   "cell_type": "markdown",
   "metadata": {
    "id": "rBjHKaUjUEBh"
   },
   "source": [
    "---\n",
    "\n",
    "# **mini-Project - Lindsay Brown**\n",
    "\n",
    "We now arrive at the finale for Workshop 2. We want you to apply all the coding knowledge you've learnt so far onto an open-ended mini-project that simulates a real-life application of coding in medicine. Your task is as follows:\n",
    "\n",
    "\n",
    "1.   You take a history from Lindsay Brown. Take the important details on history, store them in variables eg. `site`, `quality`, etc.\n",
    "2.   Create a variable called `summary`. Using f-strings, generate and assign to `summary` a patient summary (eg. in ISBAR format) that you can present to the Consultant. Print `summary`. For example, your `summary` variable might start like this:\n",
    "\n",
    "    ``summary = f\"I just spoke to {name}, a {age} year-old {gender} etc etc\"``\n",
    "\n",
    "3.   When setting up `summary`, it should be flexible enough that if the presenting history changes, `summary` will still generate a coherent summary for the new history.\n",
    "4.   There is no one right answer for this project, and don't be limited by the examples we've used. Be as creative as you like! \n",
    "\n",
    "[Link is here if the image does not display:](https://drive.google.com/uc?export=view&id=1W0Bn9Nh_zdtkEDO_occrmkV2dTrpE-Ux)\n",
    "\n",
    "![](https://drive.google.com/uc?export=view&id=1W0Bn9Nh_zdtkEDO_occrmkV2dTrpE-Ux)"
   ]
  },
  {
   "cell_type": "code",
   "execution_count": null,
   "metadata": {
    "id": "W8OmLntBaG7s"
   },
   "outputs": [],
   "source": [
    "#Lindsay Brown\n",
    "\n",
    "#Example code\n",
    "# staff_name = \"Dr Edmond\"\n",
    "# staff_position = \"intern\"\n",
    "# hospital = \"Western Health\"\n",
    "# pt_name = \"Lily Huang\"\n",
    "# pt_age = 10\n",
    "# pt_gender = \"girl\"\n",
    "# top_differential = \"Urinary Tract Infection\"\n",
    "# summary = f\"My name is {staff_name}, an {staff_position} at {hospital}. I am calling about {pt_name}, a {pt_age} year old {pt_gender} who presents with suspected {top_differential} ...\")\n",
    "# print(summary)\n",
    "\n",
    "#YOUR TURN! Give your code a cool title!\n",
    "\n",
    "#(Insert title here)\n",
    "\n"
   ]
  },
  {
   "cell_type": "markdown",
   "metadata": {
    "id": "F62AY76Y_pWg"
   },
   "source": [
    "# **CONGRATS FOR COMPLETING WORKSHOP 2!!**\n",
    "\n",
    "Please fill out [this feedback form](https://www.tinyurl.com/MDCodingWorkshopFeedback) to help us tailor the workshops for your needs!"
   ]
  }
 ],
 "metadata": {
  "colab": {
   "collapsed_sections": [],
   "name": "worksheet #2 .ipynb",
   "provenance": [],
   "toc_visible": true
  },
  "kernelspec": {
   "display_name": "Python 3",
   "language": "python",
   "name": "python3"
  },
  "language_info": {
   "codemirror_mode": {
    "name": "ipython",
    "version": 3
   },
   "file_extension": ".py",
   "mimetype": "text/x-python",
   "name": "python",
   "nbconvert_exporter": "python",
   "pygments_lexer": "ipython3",
   "version": "3.8.5"
  }
 },
 "nbformat": 4,
 "nbformat_minor": 4
}
